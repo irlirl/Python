{
  "nbformat": 4,
  "nbformat_minor": 0,
  "metadata": {
    "colab": {
      "provenance": []
    },
    "kernelspec": {
      "name": "python3",
      "display_name": "Python 3"
    },
    "language_info": {
      "name": "python"
    }
  },
  "cells": [
    {
      "cell_type": "code",
      "execution_count": null,
      "metadata": {
        "colab": {
          "base_uri": "https://localhost:8080/"
        },
        "id": "dXVy3NyaI_Uy",
        "outputId": "0ec00624-72a8-49d8-a4fc-66acddc05e8f"
      },
      "outputs": [
        {
          "output_type": "stream",
          "name": "stdout",
          "text": [
            "{1, 2, 3, 4}\n"
          ]
        }
      ],
      "source": [
        "#SETS\n",
        "\"\"\"1. Write a Python program to convert and print the given list into a set.\n",
        "    Data:\n",
        "        x = [1,2,3,4]\n",
        "    Expected Output:\n",
        "        x = {1,2,3,4}\"\"\"\n",
        "\n",
        "before = [1,2,3,4]\n",
        "after = set(before)\n",
        "print(after)"
      ]
    },
    {
      "cell_type": "code",
      "source": [
        "\"\"\"2.Write a Python program to find the length of a given set.\n",
        "    Data:\n",
        "        x = {4,5,6,7,9,2}\n",
        "    Expected Output:\n",
        "        6\"\"\"\n",
        "x = {4,5,6,7,9,2}\n",
        "print(len(x))"
      ],
      "metadata": {
        "colab": {
          "base_uri": "https://localhost:8080/"
        },
        "id": "BiNLyH1PMiL1",
        "outputId": "b20fa7c9-ee47-4d21-9a86-ccf0a71a78a1"
      },
      "execution_count": null,
      "outputs": [
        {
          "output_type": "stream",
          "name": "stdout",
          "text": [
            "6\n"
          ]
        }
      ]
    },
    {
      "cell_type": "code",
      "source": [
        "\"\"\"3. Write a Python program to create a shallow copy of sets.\n",
        "    Data:\n",
        "        a = [\"Boss\",\"Siva\"]\n",
        "    Expected Output:\n",
        "        {\"Boss\",\"Siva\"}\"\"\"\n",
        "#by using method\n",
        "import copy\n",
        "a = [\"Boss\",\"Siva\"]\n",
        "shallow_copy = set(copy.copy(a))\n",
        "print(shallow_copy)\n",
        "\n",
        "# another syntax by using function\n",
        "new_shallow = set(a.copy())\n",
        "print(new_shallow)"
      ],
      "metadata": {
        "colab": {
          "base_uri": "https://localhost:8080/"
        },
        "id": "fSBiNQwWMva8",
        "outputId": "ebf6411f-12ad-412d-d07f-591a18976e86"
      },
      "execution_count": null,
      "outputs": [
        {
          "output_type": "stream",
          "name": "stdout",
          "text": [
            "{'Siva', 'Boss'}\n",
            "{'Siva', 'Boss'}\n"
          ]
        }
      ]
    },
    {
      "cell_type": "code",
      "source": [
        "\"\"\"4. Write a Python program to remove an element from the given set using discard().\n",
        "    Data:\n",
        "        x= {0,1,2,3,4,5}\n",
        "    Expected Output:\n",
        "        {0, 1, 2, 4, 5}\"\"\"\n",
        "\n",
        "x= {0,1,2,3,4,5}\n",
        "x.discard(0)\n",
        "print(x)\n",
        "\n",
        "\n"
      ],
      "metadata": {
        "colab": {
          "base_uri": "https://localhost:8080/"
        },
        "id": "fLn9wjlISduH",
        "outputId": "6343daa6-f222-44f0-9f2c-9ec465cf3380"
      },
      "execution_count": null,
      "outputs": [
        {
          "output_type": "stream",
          "name": "stdout",
          "text": [
            "{1, 2, 3, 4, 5}\n"
          ]
        }
      ]
    },
    {
      "cell_type": "code",
      "source": [
        "\"\"\"5. Write a Python program to add elements to a given set.\n",
        "    Data:\n",
        "        {\"Boss\"}\n",
        "    Expected Output:\n",
        "        {\"Boss\", \"Siva\", \"Suresh\"}\"\"\"\n",
        "Names = {\"Boss\"}\n",
        "Names.update([\"Siva\",\"Suresh\"])\n",
        "print(Names)"
      ],
      "metadata": {
        "colab": {
          "base_uri": "https://localhost:8080/"
        },
        "id": "CuISS1shT3PM",
        "outputId": "8e4e0c7d-9435-416f-9535-ede3f6df0276"
      },
      "execution_count": null,
      "outputs": [
        {
          "output_type": "stream",
          "name": "stdout",
          "text": [
            "{'Suresh', 'Siva', 'Boss'}\n"
          ]
        }
      ]
    },
    {
      "cell_type": "code",
      "source": [
        "\"\"\"6. Write a Python program to remove an element from the given set using pop().\n",
        "    Data:\n",
        "        x = {1,2,3,4,5,6}\n",
        "    Expected Output:\n",
        "        {1, 2, 3, 4}\"\"\"\n",
        "\n",
        "x = {1,2,3,4,5,6}\n",
        "x.pop()\n",
        "print(x)"
      ],
      "metadata": {
        "colab": {
          "base_uri": "https://localhost:8080/"
        },
        "id": "blNS-z9iVpCW",
        "outputId": "3545ff0e-824c-4fa0-ce3a-4b033f0ad997"
      },
      "execution_count": null,
      "outputs": [
        {
          "output_type": "stream",
          "name": "stdout",
          "text": [
            "{2, 3, 4, 5, 6}\n"
          ]
        }
      ]
    },
    {
      "cell_type": "code",
      "source": [
        "\"\"\"7. Write a Python program to print each elements of a given set using for loop.\n",
        "    Data:\n",
        "        x = {1, 2, 3, 4, 5}\n",
        "    Expected Output:\n",
        "        1\n",
        "        2\n",
        "        3\n",
        "        4\n",
        "        5\"\"\"\n",
        "x = {1, 2, 3, 4, 5}\n",
        "for i in x:\n",
        "  print(i)\n",
        "\n"
      ],
      "metadata": {
        "colab": {
          "base_uri": "https://localhost:8080/"
        },
        "id": "Cb_U09uhX7nh",
        "outputId": "09e86125-1e75-45a4-f747-b130e84dc16a"
      },
      "execution_count": null,
      "outputs": [
        {
          "output_type": "stream",
          "name": "stdout",
          "text": [
            "1\n",
            "2\n",
            "3\n",
            "4\n",
            "5\n"
          ]
        }
      ]
    },
    {
      "cell_type": "code",
      "source": [
        "\"\"\"8. Write a Python program to print the intersection of two given sets.\n",
        "   Data:\n",
        "        x = {\"boss\", \"karthi\"}\n",
        "        y = {\"karthi\", \"siva\"}\n",
        "    Expected Output:\n",
        "        {'karthi'}\"\"\"\n",
        "x = {\"boss\", \"karthi\"}\n",
        "y = {\"karthi\", \"siva\"}\n",
        "z = x.intersection(y)\n",
        "print(z)\n",
        "# another syntax\n",
        "new = x&y\n",
        "print(new)"
      ],
      "metadata": {
        "colab": {
          "base_uri": "https://localhost:8080/"
        },
        "id": "dxRwHBhPZs4E",
        "outputId": "a349468f-3924-4aac-d199-736cfe99db86"
      },
      "execution_count": null,
      "outputs": [
        {
          "output_type": "stream",
          "name": "stdout",
          "text": [
            "{'karthi'}\n",
            "{'karthi'}\n"
          ]
        }
      ]
    },
    {
      "cell_type": "code",
      "source": [
        "\"\"\"9. Write a Python program to print the union of two given sets.\n",
        "    Data:\n",
        "        x = {\"boss\", \"karthi\"}\n",
        "        y = {\"karthi\", \"siva\"}\n",
        "    Expected Output:\n",
        "        {'boss', 'siva', 'karthi'}\"\"\"\n",
        "x = {\"boss\", \"karthi\"}\n",
        "y = {\"karthi\", \"siva\"}\n",
        "un = x.union(y)\n",
        "print(un)\n",
        "#another syntax\n",
        "uni = x|y\n",
        "print(uni)"
      ],
      "metadata": {
        "colab": {
          "base_uri": "https://localhost:8080/"
        },
        "id": "wDO1RLnza2DT",
        "outputId": "204aff18-5857-41cb-e280-79e68333456f"
      },
      "execution_count": null,
      "outputs": [
        {
          "output_type": "stream",
          "name": "stdout",
          "text": [
            "{'siva', 'karthi', 'boss'}\n",
            "{'siva', 'karthi', 'boss'}\n"
          ]
        }
      ]
    },
    {
      "cell_type": "code",
      "source": [
        "\"\"\"10. Write a Python program to print the symmetric difference between two given sets.\n",
        "    Data:\n",
        "        x = {\"boss\",\"karthi\"}\n",
        "        y = {\"karthi\",\"siva\"}\n",
        "    Expected Output:\n",
        "        {'boss', 'siva'}\"\"\"\n",
        "x = {\"boss\",\"karthi\"}\n",
        "y = {\"karthi\",\"siva\"}\n",
        "new = x.symmetric_difference(y)\n",
        "print(new)\n",
        "#another syntax\n",
        "new_1 = x^y\n",
        "print(new_1)"
      ],
      "metadata": {
        "colab": {
          "base_uri": "https://localhost:8080/"
        },
        "id": "Z66GG3KacCFp",
        "outputId": "b0143258-1dad-416d-941b-fc9b9ec6f978"
      },
      "execution_count": null,
      "outputs": [
        {
          "output_type": "stream",
          "name": "stdout",
          "text": [
            "{'siva', 'boss'}\n",
            "{'siva', 'boss'}\n"
          ]
        }
      ]
    },
    {
      "cell_type": "code",
      "source": [
        "\"\"\"11. Write a Python program to clear a given set.\n",
        "    Data:\n",
        "        x ={\"Kutta\", \"Puppy\"}\n",
        "    Expected Output:\n",
        "        The set x has elements : {'Puppy', 'Kutta'}\n",
        "        After clearing the set x : set()\"\"\"\n",
        "x ={\"Kutta\", \"Puppy\"}\n",
        "print(\" the set x has elements : \" , x)\n",
        "x.clear()\n",
        "print(\" after clearing the set x elements : \" , x)\n"
      ],
      "metadata": {
        "colab": {
          "base_uri": "https://localhost:8080/"
        },
        "id": "9PN7CdP9SD77",
        "outputId": "6aa3b293-30cc-4f5a-8f99-10a5499822ab"
      },
      "execution_count": null,
      "outputs": [
        {
          "output_type": "stream",
          "name": "stdout",
          "text": [
            " the set x has elements :  {'Puppy', 'Kutta'}\n",
            " after clearing the set x elements :  set()\n"
          ]
        }
      ]
    },
    {
      "cell_type": "code",
      "source": [
        "\"\"\"12. Write a Python program to print the maximum value from a given set.\n",
        "    Data:\n",
        "        x = {23, 45, 12, 56, 87}\n",
        "    Expected Output:\n",
        "        87\"\"\"\n",
        "x = {23, 45, 12, 56, 87}\n",
        "max_element = max(x)\n",
        "print(max_element)\n",
        "\n"
      ],
      "metadata": {
        "colab": {
          "base_uri": "https://localhost:8080/"
        },
        "id": "z2Go1tA8fjjK",
        "outputId": "633aff97-bf21-4382-d9ab-303fdb6d8bc2"
      },
      "execution_count": null,
      "outputs": [
        {
          "output_type": "stream",
          "name": "stdout",
          "text": [
            "87\n"
          ]
        }
      ]
    },
    {
      "cell_type": "code",
      "source": [
        "\"\"\"Write a Python program to print the minimum value from a given set.\n",
        "    Data:\n",
        "        x = {23, 56, 2, 3, 78, 6}\n",
        "    Expected Output:\n",
        "        2\"\"\"\n",
        "x = {23, 56, 2, 3, 78, 6}\n",
        "min_element = min(x)\n",
        "print(min_element)"
      ],
      "metadata": {
        "colab": {
          "base_uri": "https://localhost:8080/"
        },
        "id": "TSDS7efPggrV",
        "outputId": "0e75403e-5d49-4757-e69d-c314ed65fbd6"
      },
      "execution_count": null,
      "outputs": [
        {
          "output_type": "stream",
          "name": "stdout",
          "text": [
            "2\n"
          ]
        }
      ]
    },
    {
      "cell_type": "code",
      "source": [
        "\"\"\"14. Write a Python program to remove the intersection of a 2nd set from the 1st set using difference_update().\n",
        "    Data:\n",
        "        x = {1, 2, 3, 4, 5}\n",
        "        y = {4, 5, 6, 7, 8}\n",
        "    Expected Output:\n",
        "        {1, 2, 3}\"\"\"\n",
        "x = {1, 2, 3, 4, 5}\n",
        "y = {4, 5, 6, 7, 8}\n",
        "x.difference_update(y)\n",
        "print(\" after removal of elements: \",x)"
      ],
      "metadata": {
        "colab": {
          "base_uri": "https://localhost:8080/"
        },
        "id": "hdFGjNtW0414",
        "outputId": "bf862c84-ee5a-4a32-be33-1455af58898d"
      },
      "execution_count": null,
      "outputs": [
        {
          "output_type": "stream",
          "name": "stdout",
          "text": [
            " after removal of elements:  {1, 2, 3}\n"
          ]
        }
      ]
    },
    {
      "cell_type": "code",
      "source": [
        "\"\"\"15. Write a Python program to update the 1st set with the intersection elements from another set using intersection_update().\n",
        "    Data:\n",
        "        x = {\"apple\", \"banana\", \"cherry\"}\n",
        "        y = {\"google\", \"microsoft\", \"apple\"}\n",
        "    Expected Output:\n",
        "        {\"apple\"}\"\"\"\n",
        "x = {\"apple\", \"banana\", \"cherry\"}\n",
        "y = {\"google\", \"microsoft\", \"apple\"}\n",
        "x.intersection_update(y)\n",
        "print(\" updated set x with y : \",x)"
      ],
      "metadata": {
        "colab": {
          "base_uri": "https://localhost:8080/"
        },
        "id": "V7q-XVzy29wy",
        "outputId": "59f4fd59-0511-4835-b6bb-b5993fb55904"
      },
      "execution_count": null,
      "outputs": [
        {
          "output_type": "stream",
          "name": "stdout",
          "text": [
            " updated set x with y :  {'apple'}\n"
          ]
        }
      ]
    },
    {
      "cell_type": "code",
      "source": [
        "\"\"\"16. Write a Python program to zip two sets into a list.\n",
        "    Data:\n",
        "        {1, 2, 3},{\"a\", \"b\", \"c\"}\n",
        "    Expected Output:\n",
        "        [(1, 'c'),(2, 'b'),(3, 'a')]\"\"\"\n",
        "\n",
        "x = {1, 2, 3}\n",
        "y = {\"a\", \"b\", \"c\"}\n",
        "combining = zip(x,y)\n",
        "new = list(combining)\n",
        "print(\" into list conversion : \", new)\n"
      ],
      "metadata": {
        "colab": {
          "base_uri": "https://localhost:8080/"
        },
        "id": "3kLo0loW4fiU",
        "outputId": "45083feb-032b-433b-d487-151d0398370a"
      },
      "execution_count": null,
      "outputs": [
        {
          "output_type": "stream",
          "name": "stdout",
          "text": [
            " into list conversion :  [(1, 'a'), (2, 'c'), (3, 'b')]\n"
          ]
        }
      ]
    },
    {
      "cell_type": "code",
      "source": [
        "\"\"\"7. Write a Python program to convert a list into a set.\n",
        "    Data:\n",
        "        x = [5,3,4,1,2]\n",
        "    Expected Output:\n",
        "        {1,2,3,4,5}\"\"\"\n",
        "x = [5,3,4,1,2]\n",
        "conversion = set(x)\n",
        "print(conversion)"
      ],
      "metadata": {
        "colab": {
          "base_uri": "https://localhost:8080/"
        },
        "id": "iK58sI8K7-4P",
        "outputId": "2f7fc989-cac0-4388-ca4a-6d265ddd85b9"
      },
      "execution_count": null,
      "outputs": [
        {
          "output_type": "stream",
          "name": "stdout",
          "text": [
            "{1, 2, 3, 4, 5}\n"
          ]
        }
      ]
    },
    {
      "cell_type": "code",
      "source": [
        "\"\"\"18. Write a python program to check if a set is a subset of another set using comparison operator. Return True if yes, False if not.\n",
        "    Data:\n",
        "        x = {\"1\", \"2\"}\n",
        "        y = {\"1\", \"2\", \"3\"}\n",
        "    Expected Output:\n",
        "        True\n",
        "        False\"\"\"\n",
        "x = {\"1\", \"2\"}\n",
        "y = {\"1\", \"2\", \"3\"}\n",
        "if x.issubset(y) and x != y:\n",
        "    print(\" TRUE\")\n",
        "else:\n",
        "  print(\"FALSE\")"
      ],
      "metadata": {
        "colab": {
          "base_uri": "https://localhost:8080/"
        },
        "id": "v2txq4gI83OY",
        "outputId": "b8dca2f1-6ae2-456e-f1ca-f8c49e2e962a"
      },
      "execution_count": null,
      "outputs": [
        {
          "output_type": "stream",
          "name": "stdout",
          "text": [
            " TRUE\n"
          ]
        }
      ]
    },
    {
      "cell_type": "code",
      "source": [
        "\"\"\"19. Write a python program to check if a set is a subset of another set using issubset(). Return True if yes, False if not.\n",
        "    Data:\n",
        "        x = {4, 5}\n",
        "        y = {1, 2, 3, 4, 5}\n",
        "    Expected Output:\n",
        "        True\n",
        "        False\"\"\"\n",
        "\n",
        "x = {4, 5}\n",
        "y = {1, 2, 3, 4, 5}\n",
        "if  is_subset == x.issubset(y):\n",
        "  print(\"true\")\n",
        "else:\n",
        "  print(\" false\")\n"
      ],
      "metadata": {
        "colab": {
          "base_uri": "https://localhost:8080/"
        },
        "id": "s4xQAyWW_Dmn",
        "outputId": "27ddc900-dbb1-4e2d-ce49-e0b580ea00c1"
      },
      "execution_count": null,
      "outputs": [
        {
          "output_type": "stream",
          "name": "stdout",
          "text": [
            "true\n"
          ]
        }
      ]
    }
  ]
}