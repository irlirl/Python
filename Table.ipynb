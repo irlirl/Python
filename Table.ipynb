{
  "nbformat": 4,
  "nbformat_minor": 0,
  "metadata": {
    "colab": {
      "provenance": []
    },
    "kernelspec": {
      "name": "python3",
      "display_name": "Python 3"
    },
    "language_info": {
      "name": "python"
    }
  },
  "cells": [
    {
      "cell_type": "code",
      "execution_count": null,
      "metadata": {
        "colab": {
          "base_uri": "https://localhost:8080/"
        },
        "id": "S9Kp_s8MVKPy",
        "outputId": "2e595f97-e775-4ab2-9c57-99a5c92ee32a"
      },
      "outputs": [
        {
          "output_type": "stream",
          "name": "stdout",
          "text": [
            " Enter a number for multiplication table : 5\n",
            "multiplication table : 5\n",
            "multiplication table : 10\n",
            "multiplication table : 15\n",
            "multiplication table : 20\n",
            "multiplication table : 25\n",
            "multiplication table : 30\n",
            "multiplication table : 35\n",
            "multiplication table : 40\n",
            "multiplication table : 45\n",
            "multiplication table : 50\n"
          ]
        }
      ],
      "source": [
        "multiplier = int(input(\" Enter a number for multiplication table : \"))\n",
        "for i in range(1,11):\n",
        "  multiplication = multiplier * i\n",
        "  print(f\"multiplication table : {multiplication}\")\n"
      ]
    }
  ]
}