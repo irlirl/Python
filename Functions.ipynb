{
  "nbformat": 4,
  "nbformat_minor": 0,
  "metadata": {
    "colab": {
      "provenance": []
    },
    "kernelspec": {
      "name": "python3",
      "display_name": "Python 3"
    },
    "language_info": {
      "name": "python"
    }
  },
  "cells": [
    {
      "cell_type": "code",
      "source": [
        "#Functions\n",
        "# with return\n",
        "def area_of_rectangle(l,w):\n",
        "  area = l*w\n",
        "  return area\n",
        "result = area_of_rectangle(3,3)\n",
        "\n",
        "print(\" area of rectangle : \" , result)\n"
      ],
      "metadata": {
        "colab": {
          "base_uri": "https://localhost:8080/"
        },
        "id": "Djt7b1f6Qyzr",
        "outputId": "240e1aab-30b1-4e06-92c7-e8a0c4785a66"
      },
      "execution_count": null,
      "outputs": [
        {
          "output_type": "stream",
          "name": "stdout",
          "text": [
            " area of rectangle :  9\n"
          ]
        }
      ]
    },
    {
      "cell_type": "code",
      "source": [
        "def area_of_square(a):\n",
        "  A = a*2\n",
        "  return A\n",
        "result = area_of_square(4)\n",
        "print(\" area of sqaure : \" ,result)"
      ],
      "metadata": {
        "colab": {
          "base_uri": "https://localhost:8080/"
        },
        "id": "4meWBgpVlTOQ",
        "outputId": "137d23c4-6c7f-41c1-900e-b23e7f5362cb"
      },
      "execution_count": null,
      "outputs": [
        {
          "output_type": "stream",
          "name": "stdout",
          "text": [
            " area of sqaure :  8\n"
          ]
        }
      ]
    },
    {
      "cell_type": "code",
      "source": [
        "#function without result\n",
        "def area_of_square(a):\n",
        "    A = a * 4\n",
        "    print(\"Area is:\", A)\n",
        "\n",
        "area_of_square(4)"
      ],
      "metadata": {
        "colab": {
          "base_uri": "https://localhost:8080/"
        },
        "id": "OGo_HCL3n18H",
        "outputId": "4c267873-cb73-4893-a008-8ae23289236e"
      },
      "execution_count": null,
      "outputs": [
        {
          "output_type": "stream",
          "name": "stdout",
          "text": [
            "Area is: 16\n"
          ]
        }
      ]
    },
    {
      "cell_type": "code",
      "source": [
        "# function without result\n",
        "def calculate_area(length, width):\n",
        "    area = length * width\n",
        "    print(\"The area is:\", area)\n",
        "\n",
        "calculate_area(5, 8)"
      ],
      "metadata": {
        "colab": {
          "base_uri": "https://localhost:8080/"
        },
        "id": "nhHKMVsCot2v",
        "outputId": "87cbc2b7-a4d6-41c9-d61a-15e9cab83198"
      },
      "execution_count": null,
      "outputs": [
        {
          "output_type": "stream",
          "name": "stdout",
          "text": [
            "The area is: 40\n"
          ]
        }
      ]
    },
    {
      "cell_type": "code",
      "source": [
        "# even or odd function\n",
        "def is_even(number):\n",
        "  if number%2==0:\n",
        "    return(\" yes it is true\")\n",
        "  else:\n",
        "    return(\"it is false\")\n",
        "result = is_even(10)\n",
        "print(\" the number is : \" , result  )"
      ],
      "metadata": {
        "colab": {
          "base_uri": "https://localhost:8080/"
        },
        "id": "tXvm8kZopvR6",
        "outputId": "ea6784f7-7c7c-451f-b40a-b3def0f67eed"
      },
      "execution_count": null,
      "outputs": [
        {
          "output_type": "stream",
          "name": "stdout",
          "text": [
            " the number is :   yes it is true\n"
          ]
        }
      ]
    },
    {
      "cell_type": "code",
      "source": [
        "def is_prime(number):\n",
        "  if number%2==0:\n",
        "    return(\" it is not prime \")\n",
        "  else:\n",
        "    return(\" it is prime\")\n",
        "result = is_prime(31)\n",
        "print(\" the number is : \" , result)\n"
      ],
      "metadata": {
        "colab": {
          "base_uri": "https://localhost:8080/"
        },
        "id": "OLDE0pQ3q7-b",
        "outputId": "e06d2e4a-348f-47f2-f94f-33c442bd465e"
      },
      "execution_count": null,
      "outputs": [
        {
          "output_type": "stream",
          "name": "stdout",
          "text": [
            " the number is :   it is prime\n"
          ]
        }
      ]
    },
    {
      "cell_type": "code",
      "source": [],
      "metadata": {
        "id": "jqp0jyAv0Gro"
      },
      "execution_count": null,
      "outputs": []
    },
    {
      "cell_type": "code",
      "source": [
        "# number should not be lesser than 2 and number can be greater than is equal to 2\n",
        "# it cannot be 1 ,0, or negative numbers\n",
        "\n",
        "def is_prime(number):\n",
        "  if number>2:\n",
        "    return False\n",
        "    for i in range(2,int(number**0.5)+1):\n",
        "      if number%i==0:\n",
        "        return False\n",
        "    return True\n",
        "result = is_prime(303)\n",
        "print(\" the number is : \" , result )\n"
      ],
      "metadata": {
        "colab": {
          "base_uri": "https://localhost:8080/"
        },
        "id": "BuVrhUCX4IhC",
        "outputId": "d9c752f4-c875-478b-ecc7-6f18221fd9e8"
      },
      "execution_count": null,
      "outputs": [
        {
          "output_type": "stream",
          "name": "stdout",
          "text": [
            " the number is :  False\n"
          ]
        }
      ]
    },
    {
      "cell_type": "code",
      "source": [
        "def add_v (a,b):\n",
        "  addition = a+b\n",
        "  print(\" sum of a+b : \" , addition)\n",
        "\n",
        "add_v(3,3)\n"
      ],
      "metadata": {
        "id": "a32Uci6y0Gua",
        "colab": {
          "base_uri": "https://localhost:8080/"
        },
        "outputId": "851e724a-1b32-4650-e0fb-fb08e173a117"
      },
      "execution_count": null,
      "outputs": [
        {
          "output_type": "stream",
          "name": "stdout",
          "text": [
            " sum of a+b :  6\n"
          ]
        }
      ]
    },
    {
      "cell_type": "code",
      "source": [
        "def sub_v (a,b):\n",
        "  subraction = a-b\n",
        "  return subraction\n",
        "result = sub_v(10,5)\n",
        "print(\" subraction of numbers : \", result )"
      ],
      "metadata": {
        "colab": {
          "base_uri": "https://localhost:8080/"
        },
        "id": "x6z_okM-FMKJ",
        "outputId": "c3827600-bf32-442e-a085-dd671df7cdae"
      },
      "execution_count": null,
      "outputs": [
        {
          "output_type": "stream",
          "name": "stdout",
          "text": [
            " subraction of numbers :  5\n"
          ]
        }
      ]
    },
    {
      "cell_type": "code",
      "source": [
        "def max_max(a,b):\n",
        "  if a>b:\n",
        "    return a\n",
        "  else:\n",
        "    return b\n",
        "result = max_max(6,61)\n",
        "print(\" the  greatest number  :\",result)"
      ],
      "metadata": {
        "colab": {
          "base_uri": "https://localhost:8080/"
        },
        "id": "UlzQFea2GLfN",
        "outputId": "9963ecc6-750b-4ca3-d2d0-b10f0a574328"
      },
      "execution_count": null,
      "outputs": [
        {
          "output_type": "stream",
          "name": "stdout",
          "text": [
            " the  greatest number  : 61\n"
          ]
        }
      ]
    },
    {
      "cell_type": "code",
      "source": [
        "def max_max(a,b,c):\n",
        "  if a>b and a>c:\n",
        "    return a\n",
        "  elif b>a and b>c:\n",
        "    return b\n",
        "  else:\n",
        "    return c\n",
        "result = max_max(100,309,2390)\n",
        "print(\" the greatest number is \" , result )"
      ],
      "metadata": {
        "colab": {
          "base_uri": "https://localhost:8080/"
        },
        "id": "b-9iR47yHH2r",
        "outputId": "8e44dbf1-0e66-4dd0-abf8-ccd8ba7a08c6"
      },
      "execution_count": null,
      "outputs": [
        {
          "output_type": "stream",
          "name": "stdout",
          "text": [
            " the greatest number is  2390\n"
          ]
        }
      ]
    },
    {
      "cell_type": "code",
      "source": [
        "def max_min(a,b,c):\n",
        "  max_value = max(a,b,c)\n",
        "  min_value = min(a,b,c)\n",
        "  return max_value,min_value\n",
        "\n",
        "result = max_min(123,68,945)\n",
        "print(\" the max number is: \", result[0])\n",
        "print(\" the min position : \" , result[1])\n"
      ],
      "metadata": {
        "colab": {
          "base_uri": "https://localhost:8080/"
        },
        "id": "9rawnLB4Jnlk",
        "outputId": "b75e0ed2-4ad3-4bcf-eedb-9c5c525d79ed"
      },
      "execution_count": null,
      "outputs": [
        {
          "output_type": "stream",
          "name": "stdout",
          "text": [
            " the max number is:  68\n",
            " the min position :  945\n"
          ]
        }
      ]
    },
    {
      "cell_type": "code",
      "source": [
        "def avg_avg(a,b,c):\n",
        "  average = (int(a + b + c )/3 )\n",
        "  return average\n",
        "result = avg_avg(10,20,30)\n",
        "print(\" the average of a b c is : \" ,result )"
      ],
      "metadata": {
        "colab": {
          "base_uri": "https://localhost:8080/"
        },
        "id": "1QXi47voLF4t",
        "outputId": "2034e070-f762-439d-ab5f-9b45aa8310e4"
      },
      "execution_count": null,
      "outputs": [
        {
          "output_type": "stream",
          "name": "stdout",
          "text": [
            " the average of a b c is :  20.0\n"
          ]
        }
      ]
    }
  ]
}