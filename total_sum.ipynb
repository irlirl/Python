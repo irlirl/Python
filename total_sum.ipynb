{
  "nbformat": 4,
  "nbformat_minor": 0,
  "metadata": {
    "colab": {
      "provenance": []
    },
    "kernelspec": {
      "name": "python3",
      "display_name": "Python 3"
    },
    "language_info": {
      "name": "python"
    }
  },
  "cells": [
    {
      "cell_type": "code",
      "execution_count": null,
      "metadata": {
        "id": "seTV5MQfYJdS"
      },
      "outputs": [],
      "source": [
        "total = 0\n",
        "while True:\n",
        " user_input = int(input(\"Enter a number for sum and to exit enter a -ve number: \"))\n",
        " if user_input<0:\n",
        "    print(\" Exiting \")\n",
        "    break\n",
        " elif user_input>=0:\n",
        "    total=total+user_input\n",
        "    print(f\" the current total = {total}\")\n",
        "print(f\"the final total is : {total}\")\n",
        "\n",
        "\n"
      ]
    }
  ]
}