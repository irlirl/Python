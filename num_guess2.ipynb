{
  "cells": [
    {
      "cell_type": "code",
      "execution_count": null,
      "metadata": {
        "colab": {
          "background_save": true
        },
        "id": "Sl-aiKxB4j3n"
      },
      "outputs": [],
      "source": [
        "import random\n",
        "\n",
        "secret_number = random.randint(1, 10)\n",
        "\n",
        "while True:\n",
        "    user_input = input(\"Enter your guess (or type 'exit' to quit): \")\n",
        "\n",
        "    if user_input.lower() == 'exit':\n",
        "        print(\"You're exiting the game.\")\n",
        "        break\n",
        "\n",
        "    try:\n",
        "        number = int(user_input)\n",
        "    except ValueError:\n",
        "        print(\"Please enter a valid number.\")\n",
        "        continue\n",
        "\n",
        "    if number == secret_number:\n",
        "        print(\"Yay! You've got it right!\")\n",
        "        break\n",
        "    elif number > secret_number:\n",
        "        print(\"Guess is too high.\")\n",
        "    else:\n",
        "        print(\"Guess is too low.\")"
      ]
    }
  ],
  "metadata": {
    "colab": {
      "provenance": []
    },
    "kernelspec": {
      "display_name": "Python 3",
      "name": "python3"
    },
    "language_info": {
      "name": "python"
    }
  },
  "nbformat": 4,
  "nbformat_minor": 0
}