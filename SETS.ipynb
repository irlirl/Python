{
  "nbformat": 4,
  "nbformat_minor": 0,
  "metadata": {
    "colab": {
      "provenance": []
    },
    "kernelspec": {
      "name": "python3",
      "display_name": "Python 3"
    },
    "language_info": {
      "name": "python"
    }
  },
  "cells": [
    {
      "cell_type": "code",
      "execution_count": null,
      "metadata": {
        "colab": {
          "base_uri": "https://localhost:8080/"
        },
        "id": "R9AydfRNAKh0",
        "outputId": "d30bcf36-3c13-4002-abc2-ca7e27f4568c"
      },
      "outputs": [
        {
          "output_type": "stream",
          "name": "stdout",
          "text": [
            "5\n"
          ]
        }
      ],
      "source": [
        "# SET\n",
        "# un-ordered\n",
        "# no-indexing\n",
        "#removes duplicate\n",
        "#mutable means add(),remove()\n",
        "set_1 = (1,2,3,4,5)\n",
        "print(len(set_1))"
      ]
    },
    {
      "cell_type": "code",
      "source": [
        "# union function\n",
        "set_1 = {1,2,3,4,5,6,7}\n",
        "set_2 = {8,9,10,11,12,13,14}\n",
        "union = set_1.union(set_2)\n",
        "print(union)\n",
        "# another syntax\n",
        "union_set = set_1 | set_2\n",
        "print(union_set)"
      ],
      "metadata": {
        "colab": {
          "base_uri": "https://localhost:8080/"
        },
        "id": "YMdRjnlsCslr",
        "outputId": "25ab48c3-d4dc-4f14-c22f-3e8d79407f43"
      },
      "execution_count": null,
      "outputs": [
        {
          "output_type": "stream",
          "name": "stdout",
          "text": [
            "{1, 2, 3, 4, 5, 6, 7, 8, 9, 10, 11, 12, 13, 14}\n",
            "{1, 2, 3, 4, 5, 6, 7, 8, 9, 10, 11, 12, 13, 14}\n"
          ]
        }
      ]
    },
    {
      "cell_type": "code",
      "source": [
        "#intersection\n",
        "set_3 = {2,3,4,5,6}\n",
        "set_4 = {8,3,5,6,9,10,11}\n",
        "intersection = set_3.intersection(set_4)\n",
        "print(intersection)\n",
        "#another syntax\n",
        "intersection_set = set_3 & set_4\n",
        "print(intersection_set)"
      ],
      "metadata": {
        "colab": {
          "base_uri": "https://localhost:8080/"
        },
        "id": "nljsGmdQDthw",
        "outputId": "79198745-8295-4136-86eb-627a3378c999"
      },
      "execution_count": null,
      "outputs": [
        {
          "output_type": "stream",
          "name": "stdout",
          "text": [
            "{3, 5, 6}\n",
            "{3, 5, 6}\n"
          ]
        }
      ]
    },
    {
      "cell_type": "code",
      "source": [
        "# add and remove\n",
        "set = {1,2,3,4,5}\n",
        "set.add(36)\n",
        "print(set)\n",
        "set_1 = {38,37,80,43,21}\n",
        "\n",
        "set_1.remove(21)\n",
        "print(set_1)\n"
      ],
      "metadata": {
        "colab": {
          "base_uri": "https://localhost:8080/"
        },
        "id": "x9EmBgfFEflQ",
        "outputId": "40339181-857e-4355-c523-58f3e854c943"
      },
      "execution_count": null,
      "outputs": [
        {
          "output_type": "stream",
          "name": "stdout",
          "text": [
            "{1, 2, 3, 4, 5, 36}\n",
            "{80, 37, 38, 43}\n"
          ]
        }
      ]
    }
  ]
}