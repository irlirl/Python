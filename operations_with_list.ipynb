{
  "nbformat": 4,
  "nbformat_minor": 0,
  "metadata": {
    "colab": {
      "provenance": []
    },
    "kernelspec": {
      "name": "python3",
      "display_name": "Python 3"
    },
    "language_info": {
      "name": "python"
    }
  },
  "cells": [
    {
      "cell_type": "code",
      "execution_count": null,
      "metadata": {
        "id": "dlV9oXquw7Fq"
      },
      "outputs": [],
      "source": [
        "# insert and append works the same / quite similar\n",
        "# working with lists"
      ]
    },
    {
      "cell_type": "code",
      "source": [
        "# assignment of new varibale with the help of copy\n",
        "# without importing copy , copy() is in-built function\n",
        "# append() , alwaays adds element at last position\n",
        "original_list = [1,2,3,4,5,6]\n",
        "new_list = original_list.copy()\n",
        "new_list.append(\"banana\")\n",
        "print(new_list)"
      ],
      "metadata": {
        "colab": {
          "base_uri": "https://localhost:8080/"
        },
        "id": "cjLX9vTC2-W_",
        "outputId": "f079077b-8f73-4484-97c2-d1a6563bf521"
      },
      "execution_count": null,
      "outputs": [
        {
          "output_type": "stream",
          "name": "stdout",
          "text": [
            "[1, 2, 3, 4, 5, 6, 'banana']\n"
          ]
        }
      ]
    },
    {
      "cell_type": "code",
      "source": [
        "# insert(index-position,word to be inserted), this is how index works\n",
        "original_list = [1,2,3,4,5,6]\n",
        "new_list = original_list.copy()\n",
        "new_list.insert(0,\"good\")\n",
        "print(new_list)"
      ],
      "metadata": {
        "colab": {
          "base_uri": "https://localhost:8080/"
        },
        "id": "EBT1kpJD3mUB",
        "outputId": "1763281f-904a-4b89-fdce-3e64b4ff755f"
      },
      "execution_count": null,
      "outputs": [
        {
          "output_type": "stream",
          "name": "stdout",
          "text": [
            "['good', 1, 2, 3, 4, 5, 6]\n"
          ]
        }
      ]
    },
    {
      "cell_type": "code",
      "source": [
        "# importing copy. Works just like copy() , look at the syntax\n",
        "# importing copy is not necessary since it is an inbuilt function , just an another how it works\n",
        "import copy\n",
        "og_list = [\"amazing\",\"ambiguous\",\"pyramid\"]\n",
        "new_list = copy.copy(og_list)\n",
        "new_list.append(\"great\")\n",
        "new_list.insert(2,\"work\")\n",
        "print(new_list)"
      ],
      "metadata": {
        "colab": {
          "base_uri": "https://localhost:8080/"
        },
        "id": "41wAMc9b4JvI",
        "outputId": "69e33ef2-9f6d-4ebe-8a20-33132162f115"
      },
      "execution_count": null,
      "outputs": [
        {
          "output_type": "stream",
          "name": "stdout",
          "text": [
            "['amazing', 'ambiguous', 'work', 'pyramid', 'great']\n"
          ]
        }
      ]
    },
    {
      "cell_type": "code",
      "source": [
        "# another way to copy elements without copy()\n",
        "# using slice method to copy (i.e) shallow slice\n",
        "original_list = [5,6,8,9,2,4,6,\"python\",\"previous\",99]\n",
        "new_list = original_list[:]\n",
        "new_list.append(\"avatar\")\n",
        "new_list.insert(3,\"god\")\n",
        "print(new_list)\n"
      ],
      "metadata": {
        "colab": {
          "base_uri": "https://localhost:8080/"
        },
        "id": "_wiqcfS25PtD",
        "outputId": "2add7090-28d8-4df9-933d-6daec0ea0afa"
      },
      "execution_count": null,
      "outputs": [
        {
          "output_type": "stream",
          "name": "stdout",
          "text": [
            "[5, 6, 8, 'god', 9, 2, 4, 6, 'python', 'previous', 99, 'avatar']\n"
          ]
        }
      ]
    },
    {
      "cell_type": "code",
      "source": [
        "# another way to insert elements at required position with the help of slice\n",
        "#[:3] goes upto 2 index does not include 3 , [3:] starts from starts from index 3 but does not include 3rd index\n",
        "list_1 = [1,2,3,4,5]\n",
        "new_list = list_1[:]\n",
        "element_to_be_inserted = [\"amazon\"]\n",
        "new_list = list_1[:3] + element_to_be_inserted + new_list[3:]\n",
        "print(new_list)"
      ],
      "metadata": {
        "colab": {
          "base_uri": "https://localhost:8080/"
        },
        "id": "1GJVYAcS8JHn",
        "outputId": "0d14423f-39ab-4ef7-ac2d-ce847831c4a0"
      },
      "execution_count": null,
      "outputs": [
        {
          "output_type": "stream",
          "name": "stdout",
          "text": [
            "[1, 2, 3, 'amazon', 4, 5]\n"
          ]
        }
      ]
    },
    {
      "cell_type": "code",
      "source": [
        "#elements assigning with the help of slice\n",
        "#[start:end] - start - it takes the index(inclusive) and not the index's value , end - it does not take the index position(exclusive) but it does take the index's value\n",
        "list_1 = [1,2,3,4,5,\"great\",\"good\",\"job\"]\n",
        "list_1[2:5] = [12,13]\n",
        "print(list_1)\n"
      ],
      "metadata": {
        "colab": {
          "base_uri": "https://localhost:8080/"
        },
        "id": "3oaPYwHMIQVU",
        "outputId": "2a05aeb7-40e6-43c7-faeb-bee8e59e2b42"
      },
      "execution_count": null,
      "outputs": [
        {
          "output_type": "stream",
          "name": "stdout",
          "text": [
            "[1, 2, 12, 13, 'great', 'good', 'job']\n"
          ]
        }
      ]
    },
    {
      "cell_type": "code",
      "source": [
        "# elements can be changed\n",
        "my_list = [\"bamboo\",\"code\",\"flaws\"]\n",
        "my_list[2] = \"doesn't matter\"\n",
        "print(my_list)"
      ],
      "metadata": {
        "colab": {
          "base_uri": "https://localhost:8080/"
        },
        "id": "jy52Nlr5Jf8m",
        "outputId": "c26aec30-34ac-4ef9-b083-9c5175657532"
      },
      "execution_count": null,
      "outputs": [
        {
          "output_type": "stream",
          "name": "stdout",
          "text": [
            "['bamboo', 'code', \"doesn't matter\"]\n"
          ]
        }
      ]
    },
    {
      "cell_type": "code",
      "source": [],
      "metadata": {
        "id": "uKGPJPmgJf_e"
      },
      "execution_count": null,
      "outputs": []
    },
    {
      "cell_type": "code",
      "source": [
        "# direct deletion of list with del\n",
        "my_list = [1,2,4,5]\n",
        "del my_list[2]\n",
        "print(my_list)"
      ],
      "metadata": {
        "colab": {
          "base_uri": "https://localhost:8080/"
        },
        "id": "RU1BS-VZEwiz",
        "outputId": "ab96421a-8913-4026-f17a-c70baf5c3a0e"
      },
      "execution_count": null,
      "outputs": [
        {
          "output_type": "stream",
          "name": "stdout",
          "text": [
            "[1, 2, 5]\n"
          ]
        }
      ]
    },
    {
      "cell_type": "code",
      "source": [
        "# can be removed with the help of remove() too\n",
        "my_list = [\"baba\",\"babi\",\"bambi\",1,2,3]\n",
        "my_list.remove(\"babi\")\n",
        "print(my_list)"
      ],
      "metadata": {
        "colab": {
          "base_uri": "https://localhost:8080/"
        },
        "id": "dccvbVqLHtxu",
        "outputId": "205993d4-0d99-4550-84ae-f567fe887921"
      },
      "execution_count": null,
      "outputs": [
        {
          "output_type": "stream",
          "name": "stdout",
          "text": [
            "['baba', 'bambi', 1, 2, 3]\n"
          ]
        }
      ]
    },
    {
      "cell_type": "code",
      "source": [],
      "metadata": {
        "id": "GVEg5UyTIH_r"
      },
      "execution_count": null,
      "outputs": []
    },
    {
      "cell_type": "code",
      "source": [],
      "metadata": {
        "id": "aAoxO23dCUEZ"
      },
      "execution_count": null,
      "outputs": []
    }
  ]
}