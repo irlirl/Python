{
  "nbformat": 4,
  "nbformat_minor": 0,
  "metadata": {
    "colab": {
      "provenance": []
    },
    "kernelspec": {
      "name": "python3",
      "display_name": "Python 3"
    },
    "language_info": {
      "name": "python"
    }
  },
  "cells": [
    {
      "cell_type": "code",
      "source": [
        "import random\n",
        "secret_number = random.randint(1,11)\n",
        "while True:\n",
        "\n",
        "  user_input = input(\" Enter a number to guess : (Type exit to : exit )\")\n",
        "  if user_input.lower() == 'exit':\n",
        "     print(\" Exiting the game , bye!\")\n",
        "     break\n",
        "     if user_input == 'str' and 'char'\n",
        "      print(\" sentence not valid \")\n",
        "      print(\" alphabets not valid \")\n",
        "  number = int(user_input)\n",
        " if number == secret_number:\n",
        "  print(\" yay, gotcha right!\")\n",
        " elif number > secret_number:\n",
        "  print(\" guess is high\")\n",
        " else:\n",
        "  print(\" guess is low \")\n",
        "\n"
      ],
      "metadata": {
        "id": "pXcDxiHNth5t"
      },
      "execution_count": null,
      "outputs": []
    },
    {
      "cell_type": "code",
      "source": [],
      "metadata": {
        "id": "G3yB_YAOyUAt"
      },
      "execution_count": null,
      "outputs": []
    },
    {
      "cell_type": "code",
      "source": [],
      "metadata": {
        "id": "3trorfFbyETG"
      },
      "execution_count": null,
      "outputs": []
    }
  ]
}