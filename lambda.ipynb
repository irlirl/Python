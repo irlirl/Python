{
  "nbformat": 4,
  "nbformat_minor": 0,
  "metadata": {
    "colab": {
      "provenance": []
    },
    "kernelspec": {
      "name": "python3",
      "display_name": "Python 3"
    },
    "language_info": {
      "name": "python"
    }
  },
  "cells": [
    {
      "cell_type": "code",
      "execution_count": null,
      "metadata": {
        "colab": {
          "base_uri": "https://localhost:8080/"
        },
        "id": "gIpIXcjlS1R_",
        "outputId": "bbf70aa8-c26c-4de7-f3be-0f168c7df586"
      },
      "outputs": [
        {
          "output_type": "stream",
          "name": "stdout",
          "text": [
            "13\n"
          ]
        }
      ],
      "source": [
        "\"\"\"1. Write a python lambda function to summarize arguments a, b, and c and return the result.\n",
        "Data:\n",
        "    5, 6, 2\n",
        "Expected outout:\n",
        "    13\"\"\"\n",
        "add = lambda a,b,c: a+b+c\n",
        "\n",
        "result = add(5,6,2)\n",
        "print(result)\n"
      ]
    },
    {
      "cell_type": "code",
      "source": [
        "\"\"\"2. write a python lambda function to multiply argument a with argument b and return the result.\n",
        "Data:\n",
        "    5, 6\n",
        "Expected output:\n",
        "    30\"\"\"\n",
        "multiply = lambda a,b: a*b\n",
        "result = multiply(5,6)\n",
        "print(result)\n"
      ],
      "metadata": {
        "colab": {
          "base_uri": "https://localhost:8080/"
        },
        "id": "Jh2Fs1vR21Nw",
        "outputId": "d4ae1997-2f69-4476-eddb-9d3506831a66"
      },
      "execution_count": null,
      "outputs": [
        {
          "output_type": "stream",
          "name": "stdout",
          "text": [
            "30\n"
          ]
        }
      ]
    },
    {
      "cell_type": "code",
      "source": [
        "\"\"\"3. Write a python lambda function to add 10 to argument a, and return the result.\n",
        "Data:\n",
        "    a = 5\n",
        "Expected output:\n",
        "    15\"\"\"\n",
        "add = lambda a:a+10\n",
        "result = add(5)\n",
        "print(result)\n"
      ],
      "metadata": {
        "colab": {
          "base_uri": "https://localhost:8080/"
        },
        "id": "99Wxor2H4BJN",
        "outputId": "a17f1386-2311-468b-82c2-71d615b4b00e"
      },
      "execution_count": null,
      "outputs": [
        {
          "output_type": "stream",
          "name": "stdout",
          "text": [
            "15\n"
          ]
        }
      ]
    },
    {
      "cell_type": "code",
      "source": [
        "\"\"\"4. Write a python lambda function to filter out only the even items from a list.\n",
        "Data:\n",
        "    my_list = [1, 5, 4, 6, 8, 11, 3, 12]\n",
        "Expected output:\n",
        "    [4, 6, 8, 12]\"\"\"\n",
        "my_list = [1, 5, 4, 6, 8, 11, 3, 12]\n",
        "even_numbers = list(filter(lambda x : x%2==0,my_list))\n",
        "result = even_numbers\n",
        "print(even_numbers)\n"
      ],
      "metadata": {
        "id": "kCbaW9jn5B_q",
        "colab": {
          "base_uri": "https://localhost:8080/"
        },
        "outputId": "c73daf97-e030-4683-f735-8fb3805fb289"
      },
      "execution_count": null,
      "outputs": [
        {
          "output_type": "stream",
          "name": "stdout",
          "text": [
            "[4, 6, 8, 12]\n"
          ]
        }
      ]
    },
    {
      "cell_type": "code",
      "source": [],
      "metadata": {
        "id": "QzvZKBN9Okc4"
      },
      "execution_count": null,
      "outputs": []
    },
    {
      "cell_type": "code",
      "source": [
        "\"\"\"5.  Write a python lambda function to double each item in a list using map().\n",
        "Data:\n",
        "    my_list = [1, 5, 4, 6, 8, 11, 3, 12]\n",
        "Expected output:\n",
        "    [2, 10, 8, 12, 16, 22, 6, 24]\"\"\"\n",
        "my_list = [1, 5, 4, 6, 8, 11, 3, 12]\n",
        "double = list(map(lambda x : x*2,my_list))\n",
        "print(double)"
      ],
      "metadata": {
        "colab": {
          "base_uri": "https://localhost:8080/"
        },
        "id": "L1aRYD3cNPjD",
        "outputId": "278e2939-9a1d-496c-a24a-9d287747b77d"
      },
      "execution_count": null,
      "outputs": [
        {
          "output_type": "stream",
          "name": "stdout",
          "text": [
            "[2, 10, 8, 12, 16, 22, 6, 24]\n"
          ]
        }
      ]
    },
    {
      "cell_type": "code",
      "source": [
        "\"\"\"6. Write a python code to illustrate filter() with lambda() to return only the odd numbers from a given list.\n",
        "Data:\n",
        "    li = [5, 7, 22, 97, 54, 62, 77, 23, 73, 61]\n",
        "Expected output:\n",
        "    [5, 7, 97, 77, 23, 73, 61]\"\"\"\n",
        "li = [5, 7, 22, 97, 54, 62, 77, 23, 73, 61]\n",
        "odd_numbers = list(filter(lambda x : x % 2 != 0 , li))\n",
        "print(odd_numbers)"
      ],
      "metadata": {
        "colab": {
          "base_uri": "https://localhost:8080/"
        },
        "id": "75bGZpZOQChf",
        "outputId": "98d62680-092c-4d2e-dd39-c9474d22b018"
      },
      "execution_count": null,
      "outputs": [
        {
          "output_type": "stream",
          "name": "stdout",
          "text": [
            "[5, 7, 97, 77, 23, 73, 61]\n"
          ]
        }
      ]
    },
    {
      "cell_type": "code",
      "source": [
        "\"\"\"7. Write a python code to filter people above 18 years using lambda function.\n",
        "Data:\n",
        "    ages = [13, 90, 17, 59, 21, 60, 5]\n",
        "Expected output:\n",
        "    [90, 59, 21, 60]\"\"\"\n",
        "ages = [13, 90, 17, 59, 21, 60, 5]\n",
        "valid_age = list(filter(lambda x : x>18,ages))\n",
        "print(valid_age)\n",
        "\n"
      ],
      "metadata": {
        "colab": {
          "base_uri": "https://localhost:8080/"
        },
        "id": "dcN9KCt5Q0f8",
        "outputId": "42bd8e1e-d176-4aa3-ef26-fa8b2d01835b"
      },
      "execution_count": null,
      "outputs": [
        {
          "output_type": "stream",
          "name": "stdout",
          "text": [
            "[90, 59, 21, 60]\n"
          ]
        }
      ]
    },
    {
      "cell_type": "code",
      "source": [
        "\"\"\"8. Write a python function which has a lambda function to return double and triple of a given value.\n",
        "Data:\n",
        "    value = 5\n",
        "Expected output:\n",
        "    Value : 5\n",
        "    Double : 10\n",
        "    Triple : 15\"\"\"\n",
        "double = lambda value : value*2\n",
        "triple = lambda value : value*3\n",
        "value = 5\n",
        "result1 = double(value)\n",
        "result2 = triple(value)\n",
        "print(result1,result2)\n"
      ],
      "metadata": {
        "colab": {
          "base_uri": "https://localhost:8080/"
        },
        "id": "tQ1wBgdRSMHj",
        "outputId": "45d07754-b719-4f77-ebb6-2d1efc5ce49a"
      },
      "execution_count": null,
      "outputs": [
        {
          "output_type": "stream",
          "name": "stdout",
          "text": [
            "10 15\n"
          ]
        }
      ]
    },
    {
      "cell_type": "code",
      "source": [
        "\"\"\"9. Write a python code to illustrate map() with lambda() to get double of each items in a given list.\n",
        "Data:\n",
        "    li = [5, 7, 22, 97, 54, 62, 77, 23, 73, 61]\n",
        "Expected output:\n",
        "    [10, 14, 44, 194, 108, 124, 154, 46, 146, 122]\"\"\"\n",
        "\n",
        "li = [5, 7, 22, 97, 54, 62, 77, 23, 73, 61]\n",
        "double = list(map(lambda x : x*2,li))\n",
        "print(double)\n",
        "\n"
      ],
      "metadata": {
        "colab": {
          "base_uri": "https://localhost:8080/"
        },
        "id": "UdVDWlNRVfFQ",
        "outputId": "b9473e9c-bacd-4fae-aa17-b1302a6b6899"
      },
      "execution_count": null,
      "outputs": [
        {
          "output_type": "stream",
          "name": "stdout",
          "text": [
            "[10, 14, 44, 194, 108, 124, 154, 46, 146, 122]\n"
          ]
        }
      ]
    },
    {
      "cell_type": "code",
      "source": [
        "\"\"\"10. Write a python program to convert lower cases in a given list of strings into upper cases using lambda() and map() function.\n",
        "Data:\n",
        "    animals = ['dog', 'cat', 'parrot', 'rabbit']\n",
        "Expected output:\n",
        "    ['DOG', 'CAT', 'PARROT', 'RABBIT']\"\"\"\n",
        "\n",
        "animals = ['dog', 'cat', 'parrot', 'rabbit']\n",
        "\n",
        "new_animals = list(map( lambda animal : animal.capitalize(),animals))\n",
        "result = new_animals\n",
        "print(result)"
      ],
      "metadata": {
        "colab": {
          "base_uri": "https://localhost:8080/"
        },
        "id": "QuWB4gKrXHGB",
        "outputId": "542712fc-d394-4b1d-aa83-843b395e4d64"
      },
      "execution_count": null,
      "outputs": [
        {
          "output_type": "stream",
          "name": "stdout",
          "text": [
            "['Dog', 'Cat', 'Parrot', 'Rabbit']\n"
          ]
        }
      ]
    },
    {
      "cell_type": "code",
      "source": [],
      "metadata": {
        "id": "TMGwEDY9a0bn"
      },
      "execution_count": null,
      "outputs": []
    },
    {
      "cell_type": "code",
      "source": [],
      "metadata": {
        "id": "67DQ3_7XbXgf"
      },
      "execution_count": null,
      "outputs": []
    },
    {
      "cell_type": "code",
      "source": [],
      "metadata": {
        "id": "SE4D9v0JY0LY"
      },
      "execution_count": null,
      "outputs": []
    }
  ]
}